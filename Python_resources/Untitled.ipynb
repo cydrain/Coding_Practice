{
 "cells": [
  {
   "cell_type": "code",
   "execution_count": 26,
   "metadata": {},
   "outputs": [
    {
     "name": "stdout",
     "output_type": "stream",
     "text": [
      "BUY GFD 1000 10 order1\n",
      "BUY GFD 1000 10 order1\n",
      "[{'volume': 10, 'orderID': 'order1', 'price': 1000, 'cmd': 'BUY', 'type': 'GFD'}]\n"
     ]
    },
    {
     "ename": "KeyboardInterrupt",
     "evalue": "",
     "output_type": "error",
     "traceback": [
      "\u001b[0;31m---------------------------------------------------------------------------\u001b[0m",
      "\u001b[0;31mKeyboardInterrupt\u001b[0m                         Traceback (most recent call last)",
      "\u001b[0;32m<ipython-input-26-37ef0b932432>\u001b[0m in \u001b[0;36m<module>\u001b[0;34m()\u001b[0m\n\u001b[1;32m     25\u001b[0m \u001b[0mbuy_list\u001b[0m \u001b[0;34m=\u001b[0m \u001b[0;34m[\u001b[0m\u001b[0;34m]\u001b[0m\u001b[0;34m\u001b[0m\u001b[0m\n\u001b[1;32m     26\u001b[0m \u001b[0;32mwhile\u001b[0m \u001b[0;34m(\u001b[0m\u001b[0mTrue\u001b[0m\u001b[0;34m)\u001b[0m\u001b[0;34m:\u001b[0m\u001b[0;34m\u001b[0m\u001b[0m\n\u001b[0;32m---> 27\u001b[0;31m     \u001b[0mline\u001b[0m \u001b[0;34m=\u001b[0m \u001b[0mraw_input\u001b[0m\u001b[0;34m(\u001b[0m\u001b[0;34m)\u001b[0m\u001b[0;34m\u001b[0m\u001b[0m\n\u001b[0m\u001b[1;32m     28\u001b[0m     \u001b[0;32mprint\u001b[0m \u001b[0mline\u001b[0m\u001b[0;34m\u001b[0m\u001b[0m\n\u001b[1;32m     29\u001b[0m     \u001b[0morder\u001b[0m \u001b[0;34m=\u001b[0m \u001b[0;34m{\u001b[0m\u001b[0;34m}\u001b[0m\u001b[0;34m\u001b[0m\u001b[0m\n",
      "\u001b[0;32m/Users/caiyd/anaconda2/lib/python2.7/site-packages/ipykernel/kernelbase.pyc\u001b[0m in \u001b[0;36mraw_input\u001b[0;34m(self, prompt)\u001b[0m\n\u001b[1;32m    703\u001b[0m             \u001b[0mself\u001b[0m\u001b[0;34m.\u001b[0m\u001b[0m_parent_ident\u001b[0m\u001b[0;34m,\u001b[0m\u001b[0;34m\u001b[0m\u001b[0m\n\u001b[1;32m    704\u001b[0m             \u001b[0mself\u001b[0m\u001b[0;34m.\u001b[0m\u001b[0m_parent_header\u001b[0m\u001b[0;34m,\u001b[0m\u001b[0;34m\u001b[0m\u001b[0m\n\u001b[0;32m--> 705\u001b[0;31m             \u001b[0mpassword\u001b[0m\u001b[0;34m=\u001b[0m\u001b[0mFalse\u001b[0m\u001b[0;34m,\u001b[0m\u001b[0;34m\u001b[0m\u001b[0m\n\u001b[0m\u001b[1;32m    706\u001b[0m         )\n\u001b[1;32m    707\u001b[0m \u001b[0;34m\u001b[0m\u001b[0m\n",
      "\u001b[0;32m/Users/caiyd/anaconda2/lib/python2.7/site-packages/ipykernel/kernelbase.pyc\u001b[0m in \u001b[0;36m_input_request\u001b[0;34m(self, prompt, ident, parent, password)\u001b[0m\n\u001b[1;32m    733\u001b[0m             \u001b[0;32mexcept\u001b[0m \u001b[0mKeyboardInterrupt\u001b[0m\u001b[0;34m:\u001b[0m\u001b[0;34m\u001b[0m\u001b[0m\n\u001b[1;32m    734\u001b[0m                 \u001b[0;31m# re-raise KeyboardInterrupt, to truncate traceback\u001b[0m\u001b[0;34m\u001b[0m\u001b[0;34m\u001b[0m\u001b[0m\n\u001b[0;32m--> 735\u001b[0;31m                 \u001b[0;32mraise\u001b[0m \u001b[0mKeyboardInterrupt\u001b[0m\u001b[0;34m\u001b[0m\u001b[0m\n\u001b[0m\u001b[1;32m    736\u001b[0m             \u001b[0;32melse\u001b[0m\u001b[0;34m:\u001b[0m\u001b[0;34m\u001b[0m\u001b[0m\n\u001b[1;32m    737\u001b[0m                 \u001b[0;32mbreak\u001b[0m\u001b[0;34m\u001b[0m\u001b[0m\n",
      "\u001b[0;31mKeyboardInterrupt\u001b[0m: "
     ]
    }
   ],
   "source": [
    "def isOrderValid(o):\n",
    "    try:\n",
    "        if (o['cmd'] == 'BUY' or o['cmd'] == 'SELL'):\n",
    "            if (o['type'] not in ['IOC', 'GFD']):\n",
    "                return False\n",
    "            if (o['price'] <= 0 or o['volume'] <= 0):\n",
    "                return False\n",
    "            if (o['orderID'] == \"\"):\n",
    "                return False\n",
    "        elif (o['cmd'] == 'CANCEL'):\n",
    "            if (o['orderID'] == \"\"):\n",
    "                return False\n",
    "        elif (o['cmd'] == 'MODIFY'):\n",
    "            if (o['orderID'] == \"\"):\n",
    "                return False\n",
    "            if (o['cmd_new'] not in ['BUY', 'SELL']):\n",
    "                return False\n",
    "            if (o['price'] <= 0 or o['volume'] <= 0):\n",
    "                return False\n",
    "        return True;\n",
    "    except Exception as e:\n",
    "        print \"isOrderValid:\", e\n",
    "        return False\n",
    "            \n",
    "buy_list = []\n",
    "sell_list = []\n",
    "_handler = {'BUY':buy}\n",
    "while (True):\n",
    "    line = raw_input()\n",
    "    order = {}\n",
    "    words = line.split()\n",
    "    try:\n",
    "        if (words[0] == 'BUY' or words[0] == 'SELL'):\n",
    "            if (len(words) != 5): continue\n",
    "            order['cmd'] = words[0]\n",
    "            order['type'] = words[1]\n",
    "            order['price'] = int(words[2])\n",
    "            order['volume'] = int(words[3])\n",
    "            order['orderID'] = words[4]\n",
    "        elif (words[0] == 'CANCEL'):\n",
    "            if (len(words) != 2): continue\n",
    "            order['cmd'] = words[0]\n",
    "            order['orderID'] = words[1]\n",
    "        elif (words[0] == 'MODIFY'):\n",
    "            if (len(words) != 5): continue\n",
    "            order['cmd'] = words[0]\n",
    "            order['orderID'] = words[1]\n",
    "            order['cmd_new'] = words[2]\n",
    "            order['price'] = int(words[3])\n",
    "            order['volume'] = int(words[4])\n",
    "        elif (words[0] == 'PRINT'):\n",
    "            if (len(words) != 1): continue\n",
    "            order['cmd'] = words[0]\n",
    "        else:\n",
    "            continue\n",
    "            \n",
    "        if isOrderValid(order):\n",
    "            handleOrder(order)\n",
    "            \n",
    "    except Exception as e:\n",
    "        print \"Main:\", e\n",
    "        continue\n",
    "    "
   ]
  },
  {
   "cell_type": "code",
   "execution_count": 27,
   "metadata": {
    "collapsed": true
   },
   "outputs": [],
   "source": [
    "list = [1,2,3,4]\n"
   ]
  },
  {
   "cell_type": "code",
   "execution_count": 33,
   "metadata": {},
   "outputs": [
    {
     "name": "stdout",
     "output_type": "stream",
     "text": [
      "1\n",
      "[4, 2, 3, 4]\n"
     ]
    }
   ],
   "source": [
    "a = list[0]\n",
    "print a\n",
    "list[0] = 4\n",
    "print list"
   ]
  },
  {
   "cell_type": "code",
   "execution_count": 36,
   "metadata": {},
   "outputs": [
    {
     "name": "stdout",
     "output_type": "stream",
     "text": [
      "[4, 2, 3, 4, {'price': 100}, {'price': 100}]\n"
     ]
    }
   ],
   "source": [
    "b = {}\n",
    "b['price'] = 100\n",
    "list.append(b)\n",
    "print list"
   ]
  },
  {
   "cell_type": "code",
   "execution_count": 37,
   "metadata": {},
   "outputs": [
    {
     "name": "stdout",
     "output_type": "stream",
     "text": [
      "[4, 2, 3, 4, {'price': 100}, {'price': 100}]\n"
     ]
    }
   ],
   "source": [
    "print list"
   ]
  },
  {
   "cell_type": "code",
   "execution_count": 38,
   "metadata": {},
   "outputs": [
    {
     "name": "stdout",
     "output_type": "stream",
     "text": [
      "[4, 2, 3, 4, {'price': 999}, {'price': 100}]\n"
     ]
    }
   ],
   "source": [
    "list[4]['price'] = 999\n",
    "print list"
   ]
  },
  {
   "cell_type": "code",
   "execution_count": null,
   "metadata": {
    "collapsed": true
   },
   "outputs": [],
   "source": []
  }
 ],
 "metadata": {
  "kernelspec": {
   "display_name": "Python 2",
   "language": "python",
   "name": "python2"
  },
  "language_info": {
   "codemirror_mode": {
    "name": "ipython",
    "version": 2
   },
   "file_extension": ".py",
   "mimetype": "text/x-python",
   "name": "python",
   "nbconvert_exporter": "python",
   "pygments_lexer": "ipython2",
   "version": "2.7.14"
  }
 },
 "nbformat": 4,
 "nbformat_minor": 2
}
